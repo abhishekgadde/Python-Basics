{
  "nbformat": 4,
  "nbformat_minor": 0,
  "metadata": {
    "colab": {
      "name": "OOP in Python.ipynb",
      "provenance": [],
      "collapsed_sections": []
    },
    "kernelspec": {
      "name": "python3",
      "display_name": "Python 3"
    },
    "language_info": {
      "name": "python"
    }
  },
  "cells": [
    {
      "cell_type": "markdown",
      "source": [
        " In OOP, any entity that can\n",
        "perform some function and have some attributes is implemented in the form of an\n",
        "object.\n",
        "For instance, a car can be implemented as an object since a car has some attributes\n",
        "such as price, color, model, and can perform some functions such as drive car,\n",
        "change gear, stop car, etc."
      ],
      "metadata": {
        "id": "N4BtAkeEmJfS"
      }
    },
    {
      "cell_type": "markdown",
      "source": [
        "Car Analogy for OOP"
      ],
      "metadata": {
        "id": "ZOxRV640mWRS"
      }
    },
    {
      "cell_type": "markdown",
      "source": [
        "For instance, a car can be implemented as an object since a car has some attributes\n",
        "such as price, color, model, and can perform some functions such as drive car,\n",
        "change gear, stop car, etc.\n",
        "Similarly, a fruit can also be implemented as an object since a fruit has a price,\n",
        "name, and you can eat a fruit, grow a fruit, and perform functions with a fruit.\n"
      ],
      "metadata": {
        "id": "77n6dY-gmUCO"
      }
    },
    {
      "cell_type": "markdown",
      "source": [
        "Some other example for OOP is Laptop,Pen,"
      ],
      "metadata": {
        "id": "80iu5-lnmiSi"
      }
    }
  ]
}