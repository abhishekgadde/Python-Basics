{
  "nbformat": 4,
  "nbformat_minor": 0,
  "metadata": {
    "colab": {
      "name": "How to give input in python.ipynb",
      "provenance": []
    },
    "kernelspec": {
      "name": "python3",
      "display_name": "Python 3"
    },
    "language_info": {
      "name": "python"
    }
  },
  "cells": [
    {
      "cell_type": "code",
      "execution_count": 4,
      "metadata": {
        "colab": {
          "base_uri": "https://localhost:8080/"
        },
        "id": "ilbc85O8hFG5",
        "outputId": "0a3f725a-ceb5-4603-f1cd-8e15e5ba7aaf"
      },
      "outputs": [
        {
          "output_type": "stream",
          "name": "stdout",
          "text": [
            "60\n",
            "YES"
          ]
        }
      ],
      "source": [
        "val = int(input())\n",
        "if val%6==0:\n",
        "      print(\"YES\", end=\"\")\n",
        "else:\n",
        "      print(\"NO\", end=\"\")"
      ]
    }
  ]
}